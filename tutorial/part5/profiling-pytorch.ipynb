{
 "cells": [
  {
   "cell_type": "markdown",
   "metadata": {},
   "source": [
    "# Checkpointing with PyTorch\n",
    "In this notebook we will go through checkpointing your model with PyTorch.\n",
    "\n",
    "## Setting up model and dataset\n",
    "For this example we will use [Tiny ImageNet](https://www.kaggle.com/c/tiny-imagenet/overview) which is similar to ImageNet but lower resolution (64x64) and fewer images (100 k). For this dataset we will use a variant of the ResNet architecture wich is a type of Convolutional Neural Network with residual connections. For the sake of this tutorial you do not need to understand the details about the model or the dataset."
   ]
  },
  {
   "cell_type": "code",
   "execution_count": 1,
   "metadata": {},
   "outputs": [],
   "source": [
    "# Here we move the dataset to TMPDIR if one is available\n",
    "import os\n",
    "\n",
    "if \"TMPDIR\" in os.environ:\n",
    "    data_path = os.path.join(os.environ[\"TMPDIR\"], \"tiny-imagenet-200/\")\n",
    "    if not os.path.isdir(data_path):\n",
    "        !cp \"/cephyr/NOBACKUP/Datasets/tiny-imagenet-200/tiny-imagenet-200.zip\" \"$TMPDIR\"\n",
    "        !unzip -n \"$TMPDIR/tiny-imagenet-200.zip\" -d \"$TMPDIR\"\n",
    "else:\n",
    "    data_path = \"/cephyr/NOBACKUP/Datasets/tiny-imagenet-200\"\n"
   ]
  },
  {
   "cell_type": "code",
   "execution_count": 2,
   "metadata": {},
   "outputs": [],
   "source": [
    "import csv\n",
    "\n",
    "import torch\n",
    "from torch import nn, optim, profiler\n",
    "from torch.utils.data import DataLoader\n",
    "from torchvision import transforms\n",
    "from torchvision.models import resnet18\n",
    "from torchvision.datasets import ImageFolder"
   ]
  },
  {
   "cell_type": "code",
   "execution_count": 4,
   "metadata": {},
   "outputs": [
    {
     "name": "stderr",
     "output_type": "stream",
     "text": [
      "Downloading: \"https://download.pytorch.org/models/resnet18-f37072fd.pth\" to /cephyr/users/vikren/Alvis/.cache/torch/hub/checkpoints/resnet18-f37072fd.pth\n"
     ]
    }
   ],
   "source": [
    "# Dataset\n",
    "class TinyImageNet(ImageFolder):\n",
    "    '''The directory structure of val is a bit off.\n",
    "    \n",
    "    To fix so that this works with the validation set\n",
    "    '''\n",
    "    \n",
    "    def __init__(self, root_parent, type, *args, **kwargs):\n",
    "        self.type = type\n",
    "        self.root_parent = root_parent\n",
    "        super().__init__(os.path.join(self.root_parent, self.type), *args, **kwargs)\n",
    "    \n",
    "    def make_dataset(self, directory, class_to_idx, *args, **kwargs):\n",
    "        \"\"\"Generates a list of samples of a form (path_to_sample, class).\"\"\"\n",
    "        if class_to_idx is None:\n",
    "            raise ValueError(\"The parameter class_to_idx cannot be None.\")\n",
    "        \n",
    "        if self.type == \"train\":\n",
    "            return super().make_dataset(directory, class_to_idx, *args, **kwargs)\n",
    "        \n",
    "        with open(os.path.join(self.root, self.type + \"_annotations.txt\"), \"r\") as f:\n",
    "            return [\n",
    "                (os.path.join(self.root, \"images\", fn), class_to_idx[class_name])\n",
    "                for fn, class_name, _, _, _, _\n",
    "                in csv.reader(f, delimiter=\"\\t\")\n",
    "            ]\n",
    "    \n",
    "    def find_classes(self, directory):\n",
    "        \"\"\"List of all classes and dictionary mapping each class to an index.\"\"\"\n",
    "        train_dir = os.path.join(directory, \"..\", \"train\")\n",
    "        if hasattr(ImageFolder, \"find_classes\"):\n",
    "            return super().find_classes(train_dir)\n",
    "        else:\n",
    "            return super()._find_classes(train_dir)\n",
    "            \n",
    "    \n",
    "    def _find_classes(self, directory):\n",
    "        \"\"\"Backwards compatability, see find_classes.\"\"\"\n",
    "        return self.find_classes(directory)\n",
    "\n",
    "    \n",
    "transform = transforms.Compose([\n",
    "    transforms.ToTensor(),\n",
    "])\n",
    "val_set    = TinyImageNet(data_path, \"val\",   transform=transform)\n",
    "train_set  = TinyImageNet(data_path, \"train\", transform=transform)\n",
    "\n",
    "val_loader   = DataLoader(val_set,   shuffle=False)\n",
    "train_loader = DataLoader(train_set, shuffle=True)\n",
    "\n",
    "# ResNet-18\n",
    "pretrained = True\n",
    "model = resnet18(pretrained=False, num_classes=200)\n",
    "if pretrained:\n",
    "    # If we like we can use weights trained on ImageNet 1000\n",
    "    pretrained_state_dict = resnet18(\n",
    "        pretrained=pretrained,\n",
    "        num_classes=1000,\n",
    "        progress=False,\n",
    "    ).state_dict()\n",
    "    # However, the last fully connected layer is the wrong shape    \n",
    "    for key in [\"fc.weight\", \"fc.bias\"]:\n",
    "        del pretrained_state_dict[key]\n",
    "    model.load_state_dict(pretrained_state_dict, strict=False)\n",
    "\n",
    "# Optimizer\n",
    "opt = optim.SGD(model.parameters(), lr=0.005, momentum=0.9)\n",
    "\n",
    "# Other\n",
    "loss_func = nn.CrossEntropyLoss()\n",
    "device = torch.device(\"cuda\")"
   ]
  },
  {
   "cell_type": "markdown",
   "metadata": {},
   "source": [
    "Having taken care of these initialisations we are ready to take a look at profiling."
   ]
  },
  {
   "cell_type": "code",
   "execution_count": 5,
   "metadata": {},
   "outputs": [],
   "source": [
    "model.to(device)\n",
    "\n",
    "def train_step(images, labels):\n",
    "    images = images.to(device)\n",
    "    labels = labels.to(device)\n",
    "    opt.zero_grad()\n",
    "    \n",
    "    est = model(images)\n",
    "    \n",
    "    loss = loss_func(est, labels)\n",
    "    loss.backward()\n",
    "    opt.step()\n",
    "    \n",
    "    return loss.item()"
   ]
  },
  {
   "cell_type": "code",
   "execution_count": 6,
   "metadata": {},
   "outputs": [
    {
     "name": "stdout",
     "output_type": "stream",
     "text": [
      "Step: 50/50"
     ]
    }
   ],
   "source": [
    "with profiler.profile(\n",
    "        schedule=profiler.schedule(wait=10, warmup=5, active=10, repeat=2),\n",
    "        on_trace_ready=torch.profiler.tensorboard_trace_handler('./logs/base.ptb'),\n",
    "        record_shapes=False,\n",
    "        profile_memory=False,\n",
    "        with_stack=False,\n",
    ") as prof:\n",
    "\n",
    "    for images, labels in train_loader:\n",
    "        loss = train_step(images, labels)\n",
    "        \n",
    "        # This informs the profile scheduler\n",
    "        prof.step()\n",
    "        \n",
    "        print(f\"\\rStep: {prof.step_num}/50\", end=\"\")\n",
    "        if prof.step_num >= 50:\n",
    "            break"
   ]
  },
  {
   "cell_type": "markdown",
   "metadata": {},
   "source": [
    "## Excercises\n",
    "1. Look at the profiling results in tensorboard. To do this, follow the instructions in README.md\n",
    "2. Try to follow the Performance Recomendation and try again with the code below"
   ]
  },
  {
   "cell_type": "code",
   "execution_count": 6,
   "metadata": {},
   "outputs": [
    {
     "name": "stdout",
     "output_type": "stream",
     "text": [
      "Step: 50/50"
     ]
    }
   ],
   "source": [
    "train_loader = DataLoader(train_set, shuffle=True)\n",
    "model.to(device)\n",
    "\n",
    "with profiler.profile(\n",
    "        schedule=profiler.schedule(wait=10, warmup=5, active=10, repeat=2),\n",
    "        on_trace_ready=torch.profiler.tensorboard_trace_handler('./logs/improved.ptb'),\n",
    "        record_shapes=False,\n",
    "        profile_memory=False,\n",
    "        with_stack=False,\n",
    ") as prof:\n",
    "\n",
    "    for images, labels in train_loader:\n",
    "        loss = train_step(images, labels)\n",
    "        \n",
    "        # This informs the profile scheduler\n",
    "        prof.step()\n",
    "        \n",
    "        print(f\"\\rStep: {prof.step_num}/50\", end=\"\")\n",
    "        if prof.step_num >= 50:\n",
    "            # Part of an epoch may be enough information for us\n",
    "            break"
   ]
  }
 ],
 "metadata": {
  "kernelspec": {
   "display_name": "Python 3 (ipykernel)",
   "language": "python",
   "name": "python3"
  },
  "language_info": {
   "codemirror_mode": {
    "name": "ipython",
    "version": 3
   },
   "file_extension": ".py",
   "mimetype": "text/x-python",
   "name": "python",
   "nbconvert_exporter": "python",
   "pygments_lexer": "ipython3",
   "version": "3.8.10"
  }
 },
 "nbformat": 4,
 "nbformat_minor": 4
}
