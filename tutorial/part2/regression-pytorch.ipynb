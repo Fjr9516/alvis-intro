{
 "cells": [
  {
   "cell_type": "markdown",
   "metadata": {},
   "source": [
    "# Regression with PyTorch on Alvis"
   ]
  },
  {
   "cell_type": "code",
   "execution_count": null,
   "metadata": {},
   "outputs": [],
   "source": [
    "import torch\n",
    "from torch import nn"
   ]
  },
  {
   "cell_type": "markdown",
   "metadata": {},
   "source": [
    "## Constructing the data"
   ]
  },
  {
   "cell_type": "code",
   "execution_count": null,
   "metadata": {},
   "outputs": [],
   "source": [
    "def f_true(x, slope=0.5, bias=0.3):\n",
    "    '''The true underlying relation.'''\n",
    "    return slope * x + bias\n",
    "\n",
    "n_points = 300\n",
    "noise_level = 0.1\n",
    "x = 2 * torch.rand(n_points, 1) - 1\n",
    "y = f_true(x) + noise_level * torch.randn(n_points, 1)"
   ]
  },
  {
   "cell_type": "markdown",
   "metadata": {},
   "source": [
    "### Take a look at the data\n",
    "As this is a notebook we can use the fact that we can easily take a look at graphical objects."
   ]
  },
  {
   "cell_type": "code",
   "execution_count": null,
   "metadata": {},
   "outputs": [],
   "source": [
    "import matplotlib.pyplot as plt\n",
    "%matplotlib inline\n",
    "\n",
    "plt.figure()\n",
    "plt.plot(x, y, '.', label=\"Data\")\n",
    "x_plot = torch.linspace(-1, 1, 20)\n",
    "plt.plot(x_plot, f_true(x_plot), label=\"Noiseless relation\")\n",
    "plt.xlabel(\"X\")\n",
    "plt.ylabel(\"Y\")\n",
    "\n",
    "plt.legend();"
   ]
  },
  {
   "cell_type": "markdown",
   "metadata": {},
   "source": [
    "## Constructing the model"
   ]
  },
  {
   "cell_type": "code",
   "execution_count": null,
   "metadata": {},
   "outputs": [],
   "source": [
    "class LinearModel(nn.Module):\n",
    "    '''A PyTorch linear regression model.'''\n",
    "    def __init__(self, in_features, out_features):\n",
    "        super().__init__()\n",
    "        # In this function initialize objects that we want to use later\n",
    "        self.linear = nn.Linear(in_features, out_features)\n",
    "        \n",
    "    def forward(self, x):\n",
    "        # Here we define the forward pass\n",
    "        # PyTorch will keep track of the computational graph in the background,\n",
    "        # which means we don't have to worry about implementing the backwards pass\n",
    "        return self.linear(x)\n",
    "\n",
    "# Note that in this simple case, we could have simply done\n",
    "# model = nn.Linear(in_features=1, out_features=1)\n",
    "# directly.\n",
    "model = LinearModel(in_features=1, out_features=1)\n"
   ]
  },
  {
   "cell_type": "markdown",
   "metadata": {},
   "source": [
    "## Training the model"
   ]
  },
  {
   "cell_type": "code",
   "execution_count": null,
   "metadata": {},
   "outputs": [],
   "source": [
    "def train(model, loss_function, optimizer, n_epochs=20):\n",
    "    '''Training the model.'''\n",
    "    # Notify model to use training settings w.r.t. dropout etc.\n",
    "    model.train()\n",
    "    for epoch in range(n_epochs):\n",
    "        print(f\"Epoch {epoch + 1:2d}/{n_epochs}\", end=\"\")\n",
    "        \n",
    "        # Reset optimizer\n",
    "        optimizer.zero_grad()\n",
    "\n",
    "        # Forward pass\n",
    "        y_pred = model(x)\n",
    "        loss = loss_function(y_pred, y)\n",
    "        \n",
    "        print(f\"\\tLoss {loss:g}\")\n",
    "        \n",
    "        # Backward pass\n",
    "        loss.backward()\n",
    "        optimizer.step()\n",
    "\n",
    "# Specify loss function and link optimizer with model parameters\n",
    "loss_function = nn.MSELoss()\n",
    "optimizer = torch.optim.SGD(model.parameters(), lr=0.1, momentum=0.3)\n",
    "\n",
    "# Start the training\n",
    "train(model, loss_function, optimizer)"
   ]
  },
  {
   "cell_type": "markdown",
   "metadata": {},
   "source": [
    "## Evaluating the model"
   ]
  },
  {
   "cell_type": "code",
   "execution_count": null,
   "metadata": {},
   "outputs": [],
   "source": [
    "def eval(model, metric):\n",
    "    '''Evaluating the model'''\n",
    "    model.eval()\n",
    "    # We don't need to calculate any gradients\n",
    "    with torch.no_grad():\n",
    "        return metric(model(x), y)\n",
    "\n",
    "loss = eval(model, loss_function)\n",
    "print(f\"Loss: {loss:g}\")"
   ]
  },
  {
   "cell_type": "markdown",
   "metadata": {},
   "source": [
    "### Visualising model predictions"
   ]
  },
  {
   "cell_type": "code",
   "execution_count": null,
   "metadata": {},
   "outputs": [],
   "source": [
    "plt.figure()\n",
    "plt.plot(x, y, '.', label=\"Data\")\n",
    "x_plot = torch.linspace(-1, 1, 20).unsqueeze(1)\n",
    "plt.plot(x_plot, f_true(x_plot), label=\"Noiseless relation\")\n",
    "plt.xlabel(\"X\")\n",
    "plt.ylabel(\"Y\")\n",
    "\n",
    "# Add model prediction\n",
    "model.eval()\n",
    "with torch.no_grad():\n",
    "    plt.plot(x_plot, model(x_plot), label=\"Predicted relation\")\n",
    "\n",
    "plt.legend();\n"
   ]
  },
  {
   "cell_type": "code",
   "execution_count": null,
   "metadata": {},
   "outputs": [],
   "source": []
  }
 ],
 "metadata": {
  "kernelspec": {
   "display_name": "Python 3",
   "language": "python",
   "name": "python3"
  },
  "language_info": {
   "codemirror_mode": {
    "name": "ipython",
    "version": 3
   },
   "file_extension": ".py",
   "mimetype": "text/x-python",
   "name": "python",
   "nbconvert_exporter": "python",
   "pygments_lexer": "ipython3",
   "version": "3.8.6"
  }
 },
 "nbformat": 4,
 "nbformat_minor": 4
}
