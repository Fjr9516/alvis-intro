{
 "cells": [
  {
   "cell_type": "markdown",
   "metadata": {
    "slideshow": {
     "slide_type": "slide"
    }
   },
   "source": [
    "# Using Alvis\n",
    "## A Live Demo"
   ]
  },
  {
   "cell_type": "markdown",
   "metadata": {
    "slideshow": {
     "slide_type": "skip"
    }
   },
   "source": [
    "This is just a guide to help remember what to demo. For better guidance see https://www.c3se.chalmers.se/documentation/intro-alvis/slides/ or the tutorial in https://github.com/c3se/alvis-intro/"
   ]
  },
  {
   "cell_type": "markdown",
   "metadata": {
    "slideshow": {
     "slide_type": "slide"
    }
   },
   "source": [
    "## Overview\n",
    "1. The SUPR Portal\n",
    "2. Accessing Alvis\n",
    "3. Software\n",
    "4. SLURM\n",
    "5. Workshop instructions"
   ]
  },
  {
   "cell_type": "markdown",
   "metadata": {
    "slideshow": {
     "slide_type": "slide"
    }
   },
   "source": [
    "## The [SUPR Portal](supr.snic.se/)\n",
    "Here you can\n",
    "1. get an account\n",
    "2. request support\n",
    "3. apply for a project"
   ]
  },
  {
   "cell_type": "markdown",
   "metadata": {
    "slideshow": {
     "slide_type": "slide"
    }
   },
   "source": [
    "## Accessing Alvis\n",
    "1. SSH\n",
    "2. [ThinLinc](https://alvis1.c3se.chalmers.se:300/main/)\n",
    "3. [Alvis OnDemand](https://portal.c3se.chalmers.se/public/root/)"
   ]
  },
  {
   "cell_type": "markdown",
   "metadata": {
    "slideshow": {
     "slide_type": "slide"
    }
   },
   "source": [
    "## Software\n",
    "1. Module system\n",
    "2. Containers"
   ]
  },
  {
   "cell_type": "markdown",
   "metadata": {
    "slideshow": {
     "slide_type": "slide"
    }
   },
   "source": [
    "## SLURM\n",
    "1. Interactive jobs\n",
    "2. Batch jobs\n",
    "3. job_stats.py"
   ]
  },
  {
   "cell_type": "markdown",
   "metadata": {
    "slideshow": {
     "slide_type": "slide"
    }
   },
   "source": [
    "## Workshop instructions\n",
    "1. [Locate the instructions](https://github.com/c3se/alvis-intro/blob/main/tutorial/1_getting_started/README.md)\n",
    "2. Divide into break-out rooms"
   ]
  },
  {
   "cell_type": "code",
   "execution_count": null,
   "metadata": {
    "slideshow": {
     "slide_type": "skip"
    }
   },
   "outputs": [],
   "source": []
  }
 ],
 "metadata": {
  "celltoolbar": "Slideshow",
  "kernelspec": {
   "display_name": "Python 3",
   "language": "python",
   "name": "python3"
  },
  "language_info": {
   "codemirror_mode": {
    "name": "ipython",
    "version": 3
   },
   "file_extension": ".py",
   "mimetype": "text/x-python",
   "name": "python",
   "nbconvert_exporter": "python",
   "pygments_lexer": "ipython3",
   "version": "3.8.6"
  }
 },
 "nbformat": 4,
 "nbformat_minor": 4
}
