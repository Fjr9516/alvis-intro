{
 "cells": [
  {
   "cell_type": "markdown",
   "metadata": {},
   "source": [
    "# Profiling with PyTorch\n",
    "In this notebook we will go through profiling your training with PyTorch and TensorBoard.\n",
    "\n",
    "## Setting up model and dataset\n",
    "For this example we will use [Tiny ImageNet](https://www.kaggle.com/c/tiny-imagenet/overview) which is similar to ImageNet but lower resolution (64x64) and fewer images (100 k). For this dataset we will use a variant of the ResNet architecture wich is a type of Convolutional Neural Network with residual connections. For the sake of this tutorial you do not need to understand the details about the model or the dataset."
   ]
  },
  {
   "cell_type": "markdown",
   "metadata": {},
   "source": [
    "### Datapipe\n",
    "First we construct a utility function to yield datapipes to later use in our DataLoader"
   ]
  },
  {
   "cell_type": "code",
   "execution_count": 1,
   "metadata": {},
   "outputs": [],
   "source": [
    "import os\n",
    "import torch\n",
    "from torchvision.models import resnet18\n",
    "from pytorch_dataset import TinyImageNetDataset \n",
    "from torch import nn, optim, profiler\n",
    "from torch.utils.data import DataLoader\n",
    "from PIL import Image\n"
   ]
  },
  {
   "cell_type": "code",
   "execution_count": 2,
   "metadata": {},
   "outputs": [],
   "source": [
    "# Load TinyImageNet dataset using the custom dataset class\n",
    "path_to_dataset = '/mimer/NOBACKUP/Datasets/tiny-imagenet-200/tiny-imagenet-200.zip'\n",
    "\n",
    "train_dataset = TinyImageNetDataset(path_to_dataset=path_to_dataset, split='train')\n",
    "val_dataset = TinyImageNetDataset(path_to_dataset=path_to_dataset, split='val')\n",
    "\n",
    "train_loader = DataLoader(train_dataset, shuffle=True, batch_size=32)\n",
    "val_loader = DataLoader(val_dataset, shuffle=False, batch_size=32)\n"
   ]
  },
  {
   "cell_type": "code",
   "execution_count": 3,
   "metadata": {},
   "outputs": [
    {
     "name": "stderr",
     "output_type": "stream",
     "text": [
      "/apps/Arch/software/PyTorch-bundle/2.1.2-foss-2023a-CUDA-12.1.1/lib/python3.11/site-packages/torchvision/models/_utils.py:208: UserWarning: The parameter 'pretrained' is deprecated since 0.13 and may be removed in the future, please use 'weights' instead.\n",
      "  warnings.warn(\n",
      "/apps/Arch/software/PyTorch-bundle/2.1.2-foss-2023a-CUDA-12.1.1/lib/python3.11/site-packages/torchvision/models/_utils.py:223: UserWarning: Arguments other than a weight enum or `None` for 'weights' are deprecated since 0.13 and may be removed in the future. The current behavior is equivalent to passing `weights=ResNet18_Weights.IMAGENET1K_V1`. You can also use `weights=ResNet18_Weights.DEFAULT` to get the most up-to-date weights.\n",
      "  warnings.warn(msg)\n"
     ]
    }
   ],
   "source": [
    "# ResNet-18\n",
    "pretrained = True\n",
    "model = resnet18(weights=None, num_classes=200)\n",
    "if pretrained:\n",
    "    pretrained_state_dict = resnet18(\n",
    "        pretrained=pretrained,\n",
    "        num_classes=1000,\n",
    "        progress=False,\n",
    "    ).state_dict()\n",
    "    for key in [\"fc.weight\", \"fc.bias\"]:\n",
    "        del pretrained_state_dict[key]\n",
    "    model.load_state_dict(pretrained_state_dict, strict=False)\n",
    "\n",
    "# Optimizer\n",
    "opt = optim.SGD(model.parameters(), lr=0.005, momentum=0.9)\n",
    "\n",
    "# Other\n",
    "loss_func = nn.CrossEntropyLoss()\n",
    "device = torch.device(\"cuda\")\n",
    "\n"
   ]
  },
  {
   "cell_type": "code",
   "execution_count": 4,
   "metadata": {},
   "outputs": [],
   "source": [
    "model.to(device)\n",
    "def train_step(images, labels):\n",
    "    images = images.to(device)\n",
    "    labels = labels.to(device)\n",
    "    opt.zero_grad()\n",
    "    \n",
    "    est = model(images)\n",
    "    loss = loss_func(est, labels)\n",
    "    loss.backward()\n",
    "    opt.step()\n",
    "    \n",
    "    return loss.item()\n"
   ]
  },
  {
   "cell_type": "markdown",
   "metadata": {},
   "source": [
    "Having taken care of these initialisations we are ready to take a look at profiling."
   ]
  },
  {
   "cell_type": "code",
   "execution_count": 5,
   "metadata": {},
   "outputs": [
    {
     "name": "stdout",
     "output_type": "stream",
     "text": [
      "Step: 6/50"
     ]
    },
    {
     "name": "stderr",
     "output_type": "stream",
     "text": [
      "[W kineto_shim.cpp:372] Profiler is not initialized: skipping step() invocation\n",
      "[W kineto_shim.cpp:372] Profiler is not initialized: skipping step() invocation\n",
      "[W kineto_shim.cpp:372] Profiler is not initialized: skipping step() invocation\n",
      "[W kineto_shim.cpp:372] Profiler is not initialized: skipping step() invocation\n",
      "[W kineto_shim.cpp:372] Profiler is not initialized: skipping step() invocation\n",
      "[W kineto_shim.cpp:372] Profiler is not initialized: skipping step() invocation\n"
     ]
    },
    {
     "name": "stdout",
     "output_type": "stream",
     "text": [
      "Step: 12/50"
     ]
    },
    {
     "name": "stderr",
     "output_type": "stream",
     "text": [
      "[W kineto_shim.cpp:372] Profiler is not initialized: skipping step() invocation\n",
      "[W kineto_shim.cpp:372] Profiler is not initialized: skipping step() invocation\n",
      "[W kineto_shim.cpp:372] Profiler is not initialized: skipping step() invocation\n"
     ]
    },
    {
     "name": "stdout",
     "output_type": "stream",
     "text": [
      "Step: 19/50"
     ]
    },
    {
     "name": "stderr",
     "output_type": "stream",
     "text": [
      "STAGE:2024-11-14 12:14:47 3969306:3969306 ActivityProfilerController.cpp:312] Completed Stage: Warm Up\n"
     ]
    },
    {
     "name": "stdout",
     "output_type": "stream",
     "text": [
      "Step: 24/50"
     ]
    },
    {
     "name": "stderr",
     "output_type": "stream",
     "text": [
      "STAGE:2024-11-14 12:14:48 3969306:3969306 ActivityProfilerController.cpp:318] Completed Stage: Collection\n",
      "STAGE:2024-11-14 12:14:48 3969306:3969306 ActivityProfilerController.cpp:322] Completed Stage: Post Processing\n"
     ]
    },
    {
     "name": "stdout",
     "output_type": "stream",
     "text": [
      "Step: 46/50"
     ]
    },
    {
     "name": "stderr",
     "output_type": "stream",
     "text": [
      "STAGE:2024-11-14 12:14:49 3969306:3969306 ActivityProfilerController.cpp:312] Completed Stage: Warm Up\n"
     ]
    },
    {
     "name": "stdout",
     "output_type": "stream",
     "text": [
      "Step: 49/50"
     ]
    },
    {
     "name": "stderr",
     "output_type": "stream",
     "text": [
      "STAGE:2024-11-14 12:14:49 3969306:3969306 ActivityProfilerController.cpp:318] Completed Stage: Collection\n",
      "STAGE:2024-11-14 12:14:49 3969306:3969306 ActivityProfilerController.cpp:322] Completed Stage: Post Processing\n"
     ]
    },
    {
     "name": "stdout",
     "output_type": "stream",
     "text": [
      "Step: 50/50"
     ]
    }
   ],
   "source": [
    "with profiler.profile(\n",
    "        schedule=profiler.schedule(wait=10, warmup=5, active=10, repeat=2),\n",
    "        on_trace_ready=torch.profiler.tensorboard_trace_handler('./logs/base.ptb'),\n",
    "        record_shapes=False,\n",
    "        profile_memory=False,\n",
    "        with_stack=False,\n",
    ") as prof:\n",
    "    for images, labels in train_loader:\n",
    "        loss = train_step(images, labels)\n",
    "        \n",
    "        # Step scheduler\n",
    "        prof.step()\n",
    "        \n",
    "        print(f\"\\rStep: {prof.step_num}/50\", end=\"\")\n",
    "        if prof.step_num >= 50:\n",
    "            break\n"
   ]
  },
  {
   "cell_type": "markdown",
   "metadata": {},
   "source": [
    "Note that you might get warnings for using step() during wait steps."
   ]
  },
  {
   "cell_type": "markdown",
   "metadata": {},
   "source": [
    "## Excercises\n",
    "1. Look at the profiling results in tensorboard. To do this, follow the instructions in README.md\n",
    "2. Try to follow the Performance Recomendation and try again with the code below"
   ]
  },
  {
   "cell_type": "code",
   "execution_count": null,
   "metadata": {},
   "outputs": [],
   "source": [
    "train_loader = DataLoader(trainpipe, shuffle=True)\n",
    "model.to(device)\n",
    "\n",
    "with profiler.profile(\n",
    "        schedule=profiler.schedule(wait=10, warmup=5, active=10, repeat=2),\n",
    "        on_trace_ready=torch.profiler.tensorboard_trace_handler('./logs/improved.ptb'),\n",
    "        record_shapes=False,\n",
    "        profile_memory=False,\n",
    "        with_stack=False,\n",
    ") as prof:\n",
    "\n",
    "    for images, labels in train_loader:\n",
    "        loss = train_step(images, labels)\n",
    "        \n",
    "        # This informs the profile scheduler\n",
    "        prof.step()\n",
    "        \n",
    "        print(f\"\\rStep: {prof.step_num}/50\", end=\"\")\n",
    "        if prof.step_num >= 50:\n",
    "            # Part of an epoch may be enough information for us\n",
    "            break"
   ]
  },
  {
   "cell_type": "code",
   "execution_count": null,
   "metadata": {},
   "outputs": [],
   "source": []
  }
 ],
 "metadata": {
  "kernelspec": {
   "display_name": "Python 3 (ipykernel)",
   "language": "python",
   "name": "python3"
  },
  "language_info": {
   "codemirror_mode": {
    "name": "ipython",
    "version": 3
   },
   "file_extension": ".py",
   "mimetype": "text/x-python",
   "name": "python",
   "nbconvert_exporter": "python",
   "pygments_lexer": "ipython3",
   "version": "3.11.3"
  }
 },
 "nbformat": 4,
 "nbformat_minor": 4
}
