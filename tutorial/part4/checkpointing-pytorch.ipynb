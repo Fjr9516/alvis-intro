{
 "cells": [
  {
   "cell_type": "markdown",
   "metadata": {},
   "source": [
    "# Checkpointing with PyTorch\n",
    "In this notebook we will go through checkpointing your model with PyTorch.\n",
    "\n",
    "## Setting up model and dataset\n",
    "For this example we will use [Tiny ImageNet](https://www.kaggle.com/c/tiny-imagenet/overview) which is similar to ImageNet but lower resolution (64x64) and fewer images (100 k). For this dataset we will use a variant of the ResNet architecture wich is a type of Convolutional Neural Network with residual connections. For the sake of this tutorial you do not need to understand the details about the model or the dataset."
   ]
  },
  {
   "cell_type": "code",
   "execution_count": 1,
   "metadata": {},
   "outputs": [],
   "source": [
    "import torch\n",
    "from torch import nn, optim\n",
    "from torch.utils.data import DataLoader\n",
    "from torchvision import transforms\n",
    "from torchvision.datasets import ImageFolder\n",
    "from torchvision.models.resnet import BasicBlock, ResNet"
   ]
  },
  {
   "cell_type": "code",
   "execution_count": 3,
   "metadata": {},
   "outputs": [],
   "source": [
    "# Dataset\n",
    "transform = transforms.Compose([\n",
    "    transforms.ToTensor(),\n",
    "])\n",
    "data_path = \"/cephyr/NOBACKUP/Datasets/tiny-imagenet-200/\"\n",
    "test_set   = ImageFolder(data_path + \"test\",  transform=transform)\n",
    "val_set    = ImageFolder(data_path + \"val\",   transform=transform)\n",
    "train_set  = ImageFolder(data_path + \"train\", transform=transform)\n",
    "\n",
    "load_kws = dict(\n",
    "    num_workers = 4,\n",
    "    batch_size = 512,\n",
    "    prefetch_factor = 128,\n",
    ")\n",
    "test_loader  = DataLoader(test_set,  shuffle=False, **load_kws, drop_last=False)\n",
    "val_loader   = DataLoader(val_set,   shuffle=False, **load_kws)\n",
    "train_loader = DataLoader(train_set, shuffle=True,  **load_kws)\n",
    "\n",
    "# ResNet-18 \n",
    "model = ResNet(BasicBlock, layers=[2, 2, 2, 2], num_classes=200)\n",
    "\n",
    "# Optimizer\n",
    "opt = optim.Adam(model.parameters())"
   ]
  },
  {
   "cell_type": "markdown",
   "metadata": {},
   "source": [
    "Now we come to the important part, the training. In this part we will have to include the checkpointing steps."
   ]
  },
  {
   "cell_type": "code",
   "execution_count": 4,
   "metadata": {},
   "outputs": [],
   "source": [
    "loss_func = nn.CrossEntropyLoss()\n",
    "\n",
    "def train(model, opt, n_epochs, checkpoint_path):\n",
    "    \n",
    "    n_batches = len(train_loader)\n",
    "    progress_bar = tqdm(total=n_epochs*n_batches)\n",
    "    \n",
    "    for epoch in range(n_epochs):\n",
    "        \n",
    "        # Training epoch\n",
    "        model.train()\n",
    "        train_loss = 0.0\n",
    "        for images, labels in train_loader:\n",
    "            \n",
    "            opt.zero_grad()\n",
    "            \n",
    "            est = model(images)\n",
    "            \n",
    "            loss = loss_func(est, labels)\n",
    "            loss.backward()\n",
    "            train_loss += loss.item()\n",
    "            \n",
    "            progress_bar.step()\n",
    "        \n",
    "        train_loss /= n_batches\n",
    "        \n",
    "        # Validation\n",
    "        val_loss, val_acc = validate(model)\n",
    "        print(f\"Epoch {epoch}, Train loss {train_loss}, Val loss {val_loss}, Val acc {val_acc}\")\n",
    "\n",
    "        # TODO add checkpointing below\n",
    "    \n",
    "    progress_bar.close()\n",
    "    return model\n",
    "    \n",
    "def validate(model):\n",
    "    model.eval()\n",
    "    with torch.no_grad():\n",
    "        loss = 0.0\n",
    "        n_batches = len(val_loader)\n",
    "        for images, labels in val_loader:\n",
    "            est = model(images)\n",
    "            loss += loss_func(est, labels).item()\n",
    "            acc = (labels == est.max(1).item()) / labels.size(0)\n",
    "            \n",
    "        loss /= n_batches\n"
   ]
  },
  {
   "cell_type": "code",
   "execution_count": null,
   "metadata": {},
   "outputs": [],
   "source": [
    "train(model, opt, 1, None)"
   ]
  }
 ],
 "metadata": {
  "kernelspec": {
   "display_name": "Python 3",
   "language": "python",
   "name": "python3"
  },
  "language_info": {
   "codemirror_mode": {
    "name": "ipython",
    "version": 3
   },
   "file_extension": ".py",
   "mimetype": "text/x-python",
   "name": "python",
   "nbconvert_exporter": "python",
   "pygments_lexer": "ipython3",
   "version": "3.8.6"
  }
 },
 "nbformat": 4,
 "nbformat_minor": 4
}
