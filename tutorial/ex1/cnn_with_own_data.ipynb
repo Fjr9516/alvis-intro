{
 "cells": [
  {
   "cell_type": "code",
   "execution_count": null,
   "source": [
    "import os\n",
    "import tarfile\n",
    "\n",
    "import tensorflow as tf\n",
    "from tensorflow.keras import layers\n",
    "from tensorflow.keras.preprocessing.image import ImageDataGenerator\n",
    "from tensorflow.keras import Sequential"
   ],
   "outputs": [],
   "metadata": {}
  },
  {
   "cell_type": "code",
   "execution_count": null,
   "source": [
    "tf.config.list_physical_devices('GPU')"
   ],
   "outputs": [],
   "metadata": {}
  },
  {
   "cell_type": "code",
   "execution_count": null,
   "source": [
    "# Unpack archive on $TMPDIR to reduce common file IO load\n",
    "tmpdir = os.getenv(\"TMPDIR\")\n",
    "with tarfile.open(\"data.tar.gz\", \"r:gz\") as data_archive:\n",
    "    data_archive.extractall(tmpdir)\n",
    "datadir = f\"{tmpdir}/data\""
   ],
   "outputs": [],
   "metadata": {}
  },
  {
   "cell_type": "code",
   "execution_count": null,
   "source": [
    "# Load data\n",
    "train_batches = ImageDataGenerator().flow_from_directory(\n",
    "    datadir,\n",
    "    target_size=(10, 10),\n",
    "    color_mode='grayscale',\n",
    "    classes=[str(ix) for ix in range(1, 11)],\n",
    "    batch_size=128,\n",
    ")"
   ],
   "outputs": [],
   "metadata": {}
  },
  {
   "cell_type": "code",
   "execution_count": null,
   "source": [
    "# In defining the model, the input shape must match the dimension of the input data. We have grayscale images, \n",
    "# therefore, the input_shape is (xx, xx, 1), and the ImageDataGenerator should also \n",
    "# be aware of that too: color_mode='grayscale'\n",
    "\n",
    "model = Sequential([\n",
    "    layers.Flatten(input_shape=(10, 10, 1)),\n",
    "    layers.Dense(5, activation='relu'),\n",
    "    layers.Dense(5, activation='relu'),\n",
    "    layers.Dense(5, activation='relu'),\n",
    "    layers.Dense(10, activation='softmax'),\n",
    "])\n",
    "\n",
    "model.compile(loss='categorical_crossentropy', optimizer='adam', metrics=['accuracy'])\n",
    "\n",
    "model.summary()"
   ],
   "outputs": [],
   "metadata": {}
  },
  {
   "cell_type": "code",
   "execution_count": null,
   "source": [
    "model.fit(train_batches, steps_per_epoch=43, epochs=10, verbose=2)"
   ],
   "outputs": [],
   "metadata": {}
  }
 ],
 "metadata": {
  "kernelspec": {
   "display_name": "Python 3",
   "language": "python",
   "name": "python3"
  },
  "language_info": {
   "codemirror_mode": {
    "name": "ipython",
    "version": 3
   },
   "file_extension": ".py",
   "mimetype": "text/x-python",
   "name": "python",
   "nbconvert_exporter": "python",
   "pygments_lexer": "ipython3",
   "version": "3.9.1"
  }
 },
 "nbformat": 4,
 "nbformat_minor": 4
}